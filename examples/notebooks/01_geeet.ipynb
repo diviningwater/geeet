{
 "cells": [
  {
   "cell_type": "markdown",
   "metadata": {},
   "source": [
    "<a href=\"https://githubtocolab.com/kaust-halo/geeet/blob/master/examples/notebooks/01_geeet.ipynb\" target=\"_parent\"><img src=\"https://colab.research.google.com/assets/colab-badge.svg\" alt=\"Open in Colab\"/></a>"
   ]
  },
  {
   "cell_type": "markdown",
   "metadata": {},
   "source": [
    "# Simple geeet demonstration\n",
    "\n",
    "This notebook demonstrates the use of ET models in `geeet` with a minimum working (toy) example. It demonstrates the hybrid use of geeet models, i.e. using `ee.Images` and numerical data using the `geeet.tseb` and `geeet.ptjpl` modules as examples. We also show how to map these functions to an `ee.ImageCollection`. \n"
   ]
  },
  {
   "cell_type": "code",
   "execution_count": 1,
   "metadata": {},
   "outputs": [],
   "source": [
    "# Use the following line to install geeet if needed:\n",
    "#!pip install git+https://github.com/kaust-halo/geeet\n",
    "import ee\n",
    "#ee.Authenticate() # Uncomment if using Google Colab or first time using EE on this device. \n",
    "ee.Initialize()"
   ]
  },
  {
   "cell_type": "markdown",
   "metadata": {},
   "source": [
    "## Data setup \n",
    "\n",
    "Here we setup some numerical data that will be used as inputs to run the ET models."
   ]
  },
  {
   "cell_type": "code",
   "execution_count": 2,
   "metadata": {},
   "outputs": [],
   "source": [
    "## Location and time\n",
    "lonlat=[38.25, 30] \n",
    "geom = ee.Geometry.Point(lonlat[0], lonlat[1])\n",
    "region = geom.buffer(10000) # 10-km radius around the point \n",
    "\n",
    "# Inputs (n.b. not all are required for each model)\n",
    "Ta = 25+273.15 # Air temperature, in Kelvin\n",
    "RH = 25 # Relative humidity (%)\n",
    "P = 95500 # Surface pressure, in Pascals \n",
    "U = 2 # Wind speed, in m/s\n",
    "Tr = 26+273.15 # Radiometric (land surface) temperature, in Kelvin\n",
    "NDVI = 0.75 # Normalized Difference Vegetation Index\n",
    "lai = 2.408 # Leaf area index, in m2/m2 \n",
    "fc = 0.7 # fractional vegetation cover \n",
    "fapar_max = 0.73 # Maximum fraction of photosynthetically active radiation \n",
    "Rn = 487.87 # Net radiation, in W/m2\n",
    "Sdn = 745 # Shortwave radiation, in W/m2\n",
    "Ldn = 345 # Longwave radiation, in W/m2\n",
    "albedo = 0.22 \n",
    "G = 59.17 # Soil heat flux, in W/m2\n",
    "doy = 1 # Day of year \n",
    "Time = 11 # time of observation\n",
    "zU = 10 # Wind speed observation height \n",
    "zT = 2 # Air temperature observation height\n",
    "AlphaPT = 1.26 # Priestly-Taylor coefficient \n",
    "Leaf_width = 0.1 # average leaf size, in m\n",
    "Vza = 0 # Viewing zenith angle, in degrees"
   ]
  },
  {
   "cell_type": "markdown",
   "id": "759bedda",
   "metadata": {},
   "source": [
    "## Two-source Energy Balance (TSEB) model\n",
    "\n",
    "First we setup an image containing the necessary inputs to run the TSEB model and then call the `tseb_series` function to build the model. The result is an `ee.Image`, however note that nothing has yet computed until you actually request some data. "
   ]
  },
  {
   "cell_type": "code",
   "execution_count": 3,
   "id": "9ca2830e",
   "metadata": {},
   "outputs": [],
   "source": [
    "sample_tseb_inputs = ee.Image(Tr).addBands(ee.Image(Ta)).addBands(ee.Image(U))\\\n",
    ".addBands(ee.Image(P)).addBands(ee.Image(Sdn)).addBands(ee.Image(Ldn))\\\n",
    ".addBands(ee.Image(NDVI)).addBands(ee.Image(albedo))\n",
    "sample_tseb_inputs = sample_tseb_inputs.rename(['radiometric_temperature', 'air_temperature',\\\n",
    "    'wind_speed', 'surface_pressure', 'solar_radiation', 'thermal_radiation',\\\n",
    "    'NDVI', 'albedo']).set({'doy':doy, 'time':Time, 'viewing_zenith':Vza})\n",
    "sample_tseb_inputs = sample_tseb_inputs.clip(region)\n",
    "\n",
    "# Setup the TSEB model using the ee.Image defined above:\n",
    "from geeet.tseb import tseb_series\n",
    "et_tseb = tseb_series(img = sample_tseb_inputs, zU = zU, zT = zT)  # et_tseb is now an ee.Image, but no computations yet"
   ]
  },
  {
   "cell_type": "markdown",
   "id": "6fb90fa1",
   "metadata": {},
   "source": [
    "In the next cell, we request data at a specific point (the lon/lat point we defined above) at a specific scale (100 m in this case):"
   ]
  },
  {
   "cell_type": "code",
   "execution_count": 4,
   "id": "1bc6b268",
   "metadata": {},
   "outputs": [],
   "source": [
    "# Actually compute the model to retrieve data over one point at a scale of 100 meters:\n",
    "et_tseb_pix = et_tseb.reduceRegion(reducer=ee.Reducer.mean(), geometry=geom, scale=100).getInfo()"
   ]
  },
  {
   "cell_type": "markdown",
   "id": "d6908a0c",
   "metadata": {},
   "source": [
    "In the next cell we run the same function (`tseb_series`) using the numerical data directly (no GEE). We then compare the outputs obtained from the GEE and the local runs:"
   ]
  },
  {
   "cell_type": "code",
   "execution_count": 8,
   "id": "611e6008",
   "metadata": {},
   "outputs": [
    {
     "name": "stdout",
     "output_type": "stream",
     "text": [
      "                                                GEE   |  local\n",
      "Latent heat flux (W/m2):                      410.254 | 410.254\n",
      "Latent heat flux (W/m2) from canopy source:   296.981 | 296.982\n",
      "Latent heat flux (W/m2) from soil source:     113.273 | 113.272\n",
      "Sensible heat flux (W/m2) from canopy source:  18.997 |  18.997\n",
      "Sensible heat flux (W/m2) from soil source:    10.794 |  10.794\n",
      "Ground heat flux (W/m2):                       47.832 |  47.832\n",
      "Net radiation (W/m2):                         487.877 | 487.877\n",
      "Net radiation (W/m2) for the canopy source:   315.978 | 315.979\n",
      "Net radiation (W/m2) for the soil source:     171.899 | 171.899\n",
      "Energy balance closure (W/m2):                  0.000 |   0.000\n",
      "Temperature (C) of the canopy source:          25.708 |  25.708\n",
      "Temperature (C) of the soil source:            26.682 |  26.682\n",
      "Resistance Ra (s/m):                           41.957 |  41.957\n",
      "Resistance Rs (s/m):                          133.587 | 133.587\n",
      "Resistance Rx (s/m):                           21.085 |  21.085\n"
     ]
    }
   ],
   "source": [
    "from geeet.tseb import tseb_series\n",
    "out = tseb_series(\\\n",
    "    Tr = Tr, Alb = albedo, NDVI = NDVI, P = P, Ta = Ta, U = U, \\\n",
    "    Sdn = Sdn, Ldn = Ldn, doy = doy, time = Time, Vza = Vza,\\\n",
    "    longitude = lonlat[0], latitude = lonlat[1], zU = zU, zT = zT)\n",
    "et_tseb_out = dict(zip(out,[out.get(x)[0] for x in out])) \n",
    "\n",
    "print('                                                GEE   |  local')\n",
    "print('Latent heat flux (W/m2):                      {0:7.3f} | {1:7.3f}'.format(et_tseb_pix['LE']   ,et_tseb_out['LE']))\n",
    "print('Latent heat flux (W/m2) from canopy source:   {0:7.3f} | {1:7.3f}'.format(et_tseb_pix['LEc']  ,et_tseb_out['LEc']))\n",
    "print('Latent heat flux (W/m2) from soil source:     {0:7.3f} | {1:7.3f}'.format(et_tseb_pix['LEs']  ,et_tseb_out['LEs']))\n",
    "print('Sensible heat flux (W/m2) from canopy source: {0:7.3f} | {1:7.3f}'.format(et_tseb_pix['Hc']   ,et_tseb_out['Hc']))\n",
    "print('Sensible heat flux (W/m2) from soil source:   {0:7.3f} | {1:7.3f}'.format(et_tseb_pix['Hs']   ,et_tseb_out['Hs']))\n",
    "print('Ground heat flux (W/m2):                      {0:7.3f} | {1:7.3f}'.format(et_tseb_pix['G']    ,et_tseb_out['G']))\n",
    "print('Net radiation (W/m2):                         {0:7.3f} | {1:7.3f}'.format(et_tseb_pix['Rn']   ,et_tseb_out['Rn']))\n",
    "print('Net radiation (W/m2) for the canopy source:   {0:7.3f} | {1:7.3f}'.format(et_tseb_pix['Rnc']  ,et_tseb_out['Rnc']))\n",
    "print('Net radiation (W/m2) for the soil source:     {0:7.3f} | {1:7.3f}'.format(et_tseb_pix['Rns']  ,et_tseb_out['Rns']))\n",
    "print('Energy balance closure (W/m2):                {0:7.3f} | {1:7.3f}'.format(\\\n",
    "    sum(list(map(et_tseb_pix.get,['LEc', 'LEs', 'Hc', 'Hs','G'])), -et_tseb_pix['Rn']),\\\n",
    "    sum(list(map(et_tseb_out.get,['LEc', 'LEs', 'Hc', 'Hs','G'])), -et_tseb_out['Rn'])))\n",
    "print('Temperature (C) of the canopy source:         {0:7.3f} | {1:7.3f}'.format(et_tseb_pix['Tc']-273.15, et_tseb_out['Tc']-273.15)) \n",
    "print('Temperature (C) of the soil source:           {0:7.3f} | {1:7.3f}'.format(et_tseb_pix['Ts']-273.15, et_tseb_out['Ts']-273.15)) \n",
    "print('Resistance Ra (s/m):                          {0:7.3f} | {1:7.3f}'.format(et_tseb_pix['Ra']   ,et_tseb_out['Ra']))\n",
    "print('Resistance Rs (s/m):                          {0:7.3f} | {1:7.3f}'.format(et_tseb_pix['Rs']   ,et_tseb_out['Rs']))\n",
    "print('Resistance Rx (s/m):                          {0:7.3f} | {1:7.3f}'.format(et_tseb_pix['Rx']   ,et_tseb_out['Rx']))"
   ]
  },
  {
   "cell_type": "markdown",
   "metadata": {},
   "source": [
    "## PT-JPL model\n",
    "\n",
    "First we setup an image containing the necessary inputs to run the PT-JPL model and then call the `ptjpl_arid` function to build the model. The result is an `ee.Image`, however note that nothing has yet computed until you actually request some data. "
   ]
  },
  {
   "cell_type": "code",
   "execution_count": 6,
   "id": "52e0b916",
   "metadata": {},
   "outputs": [],
   "source": [
    "sample_ptjpl_inputs = ee.Image(Ta).addBands(ee.Image(RH))\\\n",
    ".addBands(ee.Image(P)).addBands(ee.Image(Rn))\\\n",
    ".addBands(ee.Image(NDVI)).addBands(ee.Image(fapar_max))\n",
    "sample_ptjpl_inputs = sample_ptjpl_inputs.rename(['air_temperature',\\\n",
    "    'relative_humidity', 'surface_pressure', 'net_radiation',\\\n",
    "    'NDVI', 'fapar_max']).set({'doy':doy, 'time':Time})\n",
    "sample_ptjpl_inputs = sample_ptjpl_inputs.clip(region)\n",
    "\n",
    "# Setup the PTJPL model using the ee.Image defined above:\n",
    "from geeet.ptjpl import ptjpl_arid\n",
    "et_ptjpl = ptjpl_arid(sample_ptjpl_inputs)  # et_ptjpl is now an ee.Image, but no computations yet"
   ]
  },
  {
   "cell_type": "markdown",
   "id": "cefa48bb",
   "metadata": {},
   "source": [
    "In the next cell, we request data at a specific point (the lon/lat point we defined above) at a specific scale (100 m in this case):"
   ]
  },
  {
   "cell_type": "code",
   "execution_count": 7,
   "id": "cee3d7c3",
   "metadata": {},
   "outputs": [],
   "source": [
    "# Actually compute the model to retrieve data over one point at a scale of 100 meters:\n",
    "et_ptjpl_pix = et_ptjpl.reduceRegion(reducer=ee.Reducer.mean(), geometry=geom, scale=100).getInfo()"
   ]
  },
  {
   "cell_type": "markdown",
   "id": "9de45022",
   "metadata": {},
   "source": [
    "In the next cell we run the same function (`ptjpl_arid`) using the numerical data directly (no GEE). We then compare the outputs to those obtained in the previous cell."
   ]
  },
  {
   "cell_type": "code",
   "execution_count": 8,
   "id": "05689aed",
   "metadata": {},
   "outputs": [
    {
     "name": "stdout",
     "output_type": "stream",
     "text": [
      "                                                GEE    |  local\n",
      "Latent heat flux (W/m2):                       327.255 | 327.255\n",
      "Latent heat flux (W/m2) from canopy source:    322.688 | 322.688\n",
      "Latent heat flux (W/m2) from soil source:        3.198 |   3.198\n",
      "Latent heat flux (W/m2) intercepted at canopy:   1.369 |   1.369\n",
      "Sensible heat flux (W/m2):                     128.604 | 128.604\n",
      "Ground heat flux (W/m2):                        32.011 |  32.011\n",
      "Net radiation (W/m2):                          487.870 | 487.870\n"
     ]
    }
   ],
   "source": [
    "# Run PTJPL model locally\n",
    "et_ptjpl_out = ptjpl_arid(Ta = Ta, \\\n",
    "    P = P, NDVI = NDVI, F_aparmax=fapar_max, \\\n",
    "    Rn = Rn, RH = RH, doy = doy, time = Time, \\\n",
    "    longitude = lonlat[0])\n",
    "# Print flux comparison\n",
    "print('                                                GEE    |  local')\n",
    "print('Latent heat flux (W/m2):                       {0:7.3f} | {1:7.3f}'.format(et_ptjpl_pix['LE']   ,et_ptjpl_out['LE']))\n",
    "print('Latent heat flux (W/m2) from canopy source:    {0:7.3f} | {1:7.3f}'.format(et_ptjpl_pix['LEc']  ,et_ptjpl_out['LEc']))\n",
    "print('Latent heat flux (W/m2) from soil source:      {0:7.3f} | {1:7.3f}'.format(et_ptjpl_pix['LEs']  ,et_ptjpl_out['LEs']))\n",
    "print('Latent heat flux (W/m2) intercepted at canopy: {0:7.3f} | {1:7.3f}'.format(et_ptjpl_pix['LEi']  ,et_ptjpl_out['LEi']))\n",
    "print('Sensible heat flux (W/m2):                     {0:7.3f} | {1:7.3f}'.format(et_ptjpl_pix['H']    ,et_ptjpl_out['H']))\n",
    "print('Ground heat flux (W/m2):                       {0:7.3f} | {1:7.3f}'.format(et_ptjpl_pix['G']    ,et_ptjpl_out['G']))\n",
    "print('Net radiation (W/m2):                          {0:7.3f} | {1:7.3f}'.format(et_ptjpl_pix['Rn']   ,et_ptjpl_out['Rn']))"
   ]
  },
  {
   "cell_type": "markdown",
   "id": "c14d33f7",
   "metadata": {},
   "source": [
    "n.b. the difference in ground heat flux between TSEB and PT-JPL is due to a different partitioning of the net radiation to the soil/canopy. Specifically, TSEB uses the solar zenith as an additional parameter inside the exponential factor: $\\frac{1}{\\sqrt{2\\cos\\theta}}$ where $\\theta$ is the solar zenith. PT-JPL does not use this factor. For more information, see the `geeet.solar.compute_Rns` function. Further comparison of the ET models is beyond the scope of this notebook. "
   ]
  },
  {
   "cell_type": "markdown",
   "id": "6ef70ac4",
   "metadata": {},
   "source": [
    "## Mapping geeet models to an ee.ImageCollection\n",
    "\n",
    "Here we show how to map `geeet` models to an `ee.ImageCollection`. Again, nothing is actually computed until we request some outputs, which we show how to do for a simple geometry (a point) using a reducer. "
   ]
  },
  {
   "cell_type": "code",
   "execution_count": 9,
   "id": "a1a4ee44",
   "metadata": {},
   "outputs": [],
   "source": [
    "# Simple image collection consisting of two images:\n",
    "sample_collection = ee.ImageCollection([sample_ptjpl_inputs.set('doy',10), sample_ptjpl_inputs.set('doy',50)])\n",
    "sample_collection_output = sample_collection.map(ptjpl_arid)"
   ]
  },
  {
   "cell_type": "markdown",
   "id": "94c3f15e",
   "metadata": {},
   "source": [
    "Here's one way to retrieve all the data over a specific region (e.g. an `ee.Geometry`): first define a function using the desired `ee.Reducer`, and return the data as a feature, then map this function over the output image collection. After this, you could export the feature collection using `ee.batch.Export.table.toDrive` (or `.toAsset`) (recommended way to export data if it is a large amount). For the purpose of this notebook, we can use `.getInfo()` to retrieve the data directly.  "
   ]
  },
  {
   "cell_type": "code",
   "execution_count": 10,
   "id": "8bd2b49e",
   "metadata": {},
   "outputs": [],
   "source": [
    "# Function using a reducer to get the mean value of each band in the defined region.\n",
    "def reduce_et(img):\n",
    "    doy = img.get('doy')  \n",
    "    img_mean = img.reduceRegion(ee.Reducer.mean(), geometry=geom, scale=100)\n",
    "    feature = ee.Feature(geom, img_mean)\n",
    "    feature = feature.set('doy', doy)\n",
    "    return feature\n",
    "\n",
    "sample_collection_output_pix  = sample_collection_output.map(reduce_et)\n",
    "#export_task = ee.batch.Export.table.toDrive(collection = sample_collection_output_pix, description = 'ExportTable') # Export the results to drive\n",
    "#print(sample_collection_output_pix.toList(count=2).getInfo())  # Retrieve and print the results here in JSON format. "
   ]
  },
  {
   "cell_type": "code",
   "execution_count": 11,
   "id": "0ae5af99",
   "metadata": {},
   "outputs": [
    {
     "name": "stdout",
     "output_type": "stream",
     "text": [
      "{'G': [32.32386328885607, 32.80950191529322], 'H': [128.30272396808647, 127.83579140618627], 'LE': [327.2434127430575, 327.22470667852053], 'LEc': [322.6884951724099, 322.6884951724099], 'LEi': [1.3688096215331893, 1.3688096215331893], 'LEs': [3.186107949114378, 3.1674018845774485], 'NDVI': [0.75, 0.75], 'Rn': [487.87, 487.87], 'air_temperature': [298.15, 298.15], 'doy': [10, 50], 'fapar_max': [0.73, 0.73], 'net_radiation': [487.87, 487.87], 'relative_humidity': [25, 25], 'surface_pressure': [95500, 95500]}\n"
     ]
    }
   ],
   "source": [
    "# Retrieve the data in json format\n",
    "json_data = sample_collection_output_pix.toList(count=2).getInfo()  # This will be slow (computations are now \n",
    "                                                        # actually done in the Google Earth Engine servers and\n",
    "                                                        # then sent here. )\n",
    "# Create a list of dictionaries with the data:\n",
    "list_dict = [x['properties'] for x in json_data]\n",
    "# Transform the list of dictionaries to a dictionary of lists:\n",
    "data_dict = {key: [d[key] for d in list_dict] for key in list_dict[0]}\n",
    "print(data_dict)"
   ]
  },
  {
   "cell_type": "code",
   "execution_count": 12,
   "id": "6bea088b",
   "metadata": {},
   "outputs": [
    {
     "name": "stdout",
     "output_type": "stream",
     "text": [
      "             G           H          LE         LEc      LEi       LEs  NDVI  \\\n",
      "doy                                                                           \n",
      "10   32.323863  128.302724  327.243413  322.688495  1.36881  3.186108  0.75   \n",
      "50   32.809502  127.835791  327.224707  322.688495  1.36881  3.167402  0.75   \n",
      "\n",
      "         Rn  air_temperature  fapar_max  net_radiation  relative_humidity  \\\n",
      "doy                                                                         \n",
      "10   487.87           298.15       0.73         487.87                 25   \n",
      "50   487.87           298.15       0.73         487.87                 25   \n",
      "\n",
      "     surface_pressure  EB closure  \n",
      "doy                                \n",
      "10              95500         0.0  \n",
      "50              95500         0.0  \n"
     ]
    }
   ],
   "source": [
    "# You could also now create a pandas dataframe with the data:\n",
    "try:\n",
    "    import pandas as pd       \n",
    "    data_frame = pd.DataFrame(data_dict).set_index('doy')\n",
    "    data_frame['EB closure'] = data_frame.apply(lambda x: x.G+x.H+x.LE-x.Rn, axis=1)\n",
    "    print(data_frame)\n",
    "except:\n",
    "    pass"
   ]
  }
 ],
 "metadata": {
  "interpreter": {
   "hash": "563104533abed62ee06bb251bf36028864c8de68f4f10a11edc7fddcf9524038"
  },
  "kernelspec": {
   "display_name": "Python 3.9.6 64-bit ('geeet': conda)",
   "name": "python3"
  },
  "language_info": {
   "codemirror_mode": {
    "name": "ipython",
    "version": 3
   },
   "file_extension": ".py",
   "mimetype": "text/x-python",
   "name": "python",
   "nbconvert_exporter": "python",
   "pygments_lexer": "ipython3",
   "version": "3.10.13"
  }
 },
 "nbformat": 4,
 "nbformat_minor": 5
}
