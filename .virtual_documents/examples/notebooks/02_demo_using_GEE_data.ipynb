





# Use the following line to install geeet if needed:
#!pip install git+https://github.com/kaust-halo/geeet
# Use the following line to install geemap if needed:
#!pip install geemap
import ee
# ee.Authenticate() # Uncomment if using Google Colab or first time using EE on this device. 
ee.Initialize()





## Location and time
date_start = ee.Date('2019-06-15')
date_end = date_start.advance(1, 'day')
lonlat=[38.25, 30.25] 
pt1 = ee.Geometry.Point(lonlat[0]-0.25, lonlat[1]-0.25)
pt2 = ee.Geometry.Point(lonlat[0]+0.25, lonlat[1]-0.25)
pt3 = ee.Geometry.Point(lonlat[0]+0.25, lonlat[1]+0.25)
pt4 = ee.Geometry.Point(lonlat[0]-0.25, lonlat[1]+0.25)
region = ee.Geometry.Polygon([pt1,pt2,pt3,pt4])

## Meteorological data: ECMWF ERA5 hourly reanalysis at 0.25° resolution. 
# For PT-JPL, we need: air temperature, relative humidity, surface pressure, and net radiation
# https://developers.google.com/earth-engine/datasets/catalog/ECMWF_ERA5_LAND_HOURLY#bands)
# We can define relative humidity from dewpoint temperature, air temperature, and surface pressure
# see: https://www.ecmwf.int/sites/default/files/elibrary/2016/17117-part-iv-physical-processes.pdf
# equation 7.91
# net radiation = net solar radiation + net thermal radiation
bands_to_keep = ee.List(['temperature_2m', 'dewpoint_temperature_2m', 'surface_pressure', 
    'surface_net_solar_radiation_hourly', 'surface_net_thermal_radiation_hourly'])
bands_to_rename = ee.List(['air_temperature', 'dewpoint_temperature', 'surface_pressure', 
    'short_net_radiation_hourly', 'long_net_radiation_hourly']) 

Meteo_collection = (ee.ImageCollection('ECMWF/ERA5_LAND/HOURLY') 
    .filterDate(date_start, date_end) 
    .filterBounds(region)
    .select(bands_to_keep, bands_to_rename)  
)
def prepare_ECMWF(img):
    net = img.select('short_net_radiation_hourly').add(img.select('long_net_radiation_hourly'))
    Rn = net.divide(3600).rename('net_radiation') # from J/m2 to W/m2 
    T = img.select('air_temperature')  # in Kelvin
    DT = img.select('dewpoint_temperature') # in Kelvin
    P = img.select('surface_pressure') # in Pascals
    from geeet.meteo import relative_humidity # eq 7.91 in ECMWF (2016)
    RH = relative_humidity(T, DT, P)  
    img = img.addBands(Rn).addBands(RH)
    return(img)

Meteo_collection = Meteo_collection.map(prepare_ECMWF)
# We will work with the 10AM data as an example:
Meteo_img = Meteo_collection.filter(ee.Filter.eq('hour',10)).first()

## MODIS NDVI
# We first start with an annual time series of NDVI
# so we can calculate FAPAR and FAPAR_max
NDVI_one_year = (ee.ImageCollection('MODIS/MCD43A4_006_NDVI') 
                  .filterDate(date_start.advance(-1,'year'), date_start.advance(1,'year')) 
                  .filterBounds(region)
                  .select("NDVI")
)
# this function calculates fapar from NDVI and adds it as a new band
from geeet.vegetation import add_fapar
# we can now calculate fapar_max for this period:
fapar_max = NDVI_one_year.map(add_fapar).select('fapar').reduce(ee.Reducer.max())
# Actual image we will use for NDVI:
NDVI = NDVI_one_year.filterDate(date_start, date_end).first().select('NDVI')

## Gather all input data into a single image:
inputs_image = Meteo_img.addBands(NDVI).addBands(fapar_max)
# PT-JPL requires day of year and time information:
d = ee.Date(inputs_image.date())
doy = d.getRelative('day', 'year').add(1)   # offset of 1 because getRelative gives 0 for doy=1
time = d.getRelative('hour', 'day').add(3)  # offset of 3 hours to obtain local time in this region.
inputs_image = inputs_image.set({'doy':doy,'time':time})
inputs_image = inputs_image.clip(region)





## Export the input data as an earth engine asset:
task = ee.batch.Export.image.toAsset(image=inputs_image,
                                     description='Inputs_export_demo',
                                     assetId='projects/geeet-public/assets/ptjpl_sample_inputs_coarse',  # Change to your own project
                                     region=region,
                                     scale=1000)
#task.start()  # uncomment to submit the task.





inputs_image = ee.Image('projects/geeet-public/assets/ptjpl_sample_inputs_coarse')
lonlat=[38.25, 30.25] 
pt1 = ee.Geometry.Point(lonlat[0]-0.25, lonlat[1]-0.25)
pt2 = ee.Geometry.Point(lonlat[0]+0.25, lonlat[1]-0.25)
pt3 = ee.Geometry.Point(lonlat[0]+0.25, lonlat[1]+0.25)
pt4 = ee.Geometry.Point(lonlat[0]-0.25, lonlat[1]+0.25)
region = ee.Geometry.Polygon([pt1,pt2,pt3,pt4])





# Optionally display the input data as an interactive map
# (requires geeemap)
# Alternatively, use this sample code editor script to visualize it
# https://code.earthengine.google.com/?scriptPath=users%2Flopezvoliver%2Fgeeet%3Aptjpl_sample_inputs_coarse
Map = None
try:
    import geemap
    import geemap.colormaps as cm
    ndvi_pal = cm.palettes.ndvi
    pal = cm.palettes.YlOrRd
    Map = geemap.Map(center=[lonlat[1], lonlat[0]], zoom=12)
    Map.addLayer(inputs_image.select('relative_humidity'), {'min':0, 'max':100, 'palette':["440154","3a528b","20908d","5dc962","fde725"]}, 'Relative humidity')
    Map.addLayer(inputs_image.select('air_temperature').subtract(273.15), {'min':20, 'max':50, 'palette':pal}, 'Air temperature (C)')
    Map.addLayer(inputs_image.select('surface_pressure').divide(1000), {'min':90, 'max':110, 'palette':pal}, 'Surface pressure (KPa)')
    Map.addLayer(inputs_image.select('net_radiation'), {'min':0, 'max':500, 'palette':pal}, 'Net radiation (W/m2)')
    Map.addLayer(inputs_image.select('fapar_max'), {'min':0, 'max':1, 'palette':pal}, 'FAPAR max')
    Map.addLayer(inputs_image.select('NDVI'), {'min':0, 'max':1, 'palette':ndvi_pal}, 'NDVI')
except:
    pass

Map





from geeet.ptjpl import ptjpl_arid
ET = ptjpl_arid(inputs_image)





# Adds the output data to the map above. Requires "Map" to be defined above as a geemap.Map object. 
try:
    import geemap.colormaps as cm
    pal_viridis = cm.palettes.viridis
    Map.addLayer(ET.select(['H']), {'min':0, 'max':500, 'palette':pal_viridis}, 'Sensible heat flux (W/m2)', False)
    Map.addLayer(ET.select(['G']), {'min':0, 'max':500, 'palette':pal_viridis}, 'Ground heat flux (W/m2)', False)
    Map.addLayer(ET.select(['Rn']), {'min':0, 'max':500, 'palette':pal_viridis}, 'Net radiation', False)
    Map.addLayer(ET.select(['LEs']), {'min':0, 'max':500, 'palette':pal_viridis}, 'LE soil (W/m2)', False)
    Map.addLayer(ET.select(['LEc']), {'min':0, 'max':500, 'palette':pal_viridis}, 'LE canopy (W/m2)', False)
    Map.addLayer(ET.select(['LEi']), {'min':0, 'max':500, 'palette':pal_viridis}, 'LE interception (W/m2)', False)
    Map.addLayer(ET.select(['LE']), {'min':0, 'max':500, 'palette':pal_viridis}, 'Total LE (W/m2)')
except:
    pass





## Export the output data as an earth engine asset:
task = ee.batch.Export.image.toAsset(image=ET,
                                     description='Outputs_export_demo',
                                     assetId='projects/geeet-public/assets/ptjpl_sample_outputs_coarse',  # Change to your own project
                                     region=region,
                                     scale=1000)
#task.start()  # uncomment to submit the task.





from geeet.ptjpl import cite_all
cite_all()
