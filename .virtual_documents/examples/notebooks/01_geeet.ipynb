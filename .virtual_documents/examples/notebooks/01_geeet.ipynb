








import numpy as np
import geeet

list_inputs = dict(
    Tr = [295, 295],    # Radiometric temperature (K)
    Alb = [0.2, 0.2],   # Albedo (-)
    NDVI = [0.8, 0.8],  # NDVI (-)
    P = [95500, 95500], # Surface pressure (Pa)
    Ta = [293, 293],    # Air temperature (K)
    U = [5,5],          # Wind speed (m/s)
    Sdn = [800, 400],   # Shortwave downward radiation (W/m²)
    Ldn = [300, 200]    # Longwave downward radiation (W/m²)
)
np_inputs = {key:np.array(value) for key,value in list_inputs.items()}

scalar_inputs = dict(
    doy = 1,            # Day of year
    time = 11,          # Local hour
    Vza = 0,            # Viewing zenith angle (degrees)
    longitude = 38.25,  # Longitude (degrees)
    latitude = 30,      # Latitude (degrees)
    zU = 10,            # Wind measurement height (m)
    zT = 2              # Temperature measurement height (m)
)

et_list = geeet.tseb.tseb_series(**list_inputs, **scalar_inputs)   # This
et_np = geeet.tseb.tseb_series(**np_inputs, **scalar_inputs)       # and this result are equal.
f = lambda s,k,a,b,p: f'{s} {np.array2string(np.array(a[k]), precision=p)} | {np.array2string(np.array(b[k]), precision=p)}'
print('Energy balance components                         et_list           et_np')
print(f('Net radiation (W/m²):                          ', "Rn", et_list, et_np, 1))
print(f('Net radiation (W/m²) from canopy source:       ', "Rnc", et_list, et_np, 1))
print(f('Net radiation (W/m²) from soil source:         ', "Rns", et_list, et_np, 1))
print(f('Latent heat flux (W/m²):                       ', "LE", et_list, et_np, 1))
print(f('Latent heat flux (W/m²) from canopy source:    ', "LEc", et_list, et_np, 1))
print(f('Latent heat flux (W/m²) from soil source:      ', "LEs", et_list, et_np, 1))
print(f('Sensible heat flux (W/m²) from canopy source:  ', "Hc", et_list, et_np, 1))
print(f('Sensible heat flux (W/m²) from soil source:    ', "Hs", et_list, et_np, 1))
print(f('Ground heat flux (W/m²):                       ', "G", et_list, et_np, 1))





import xarray as xr

xr_inputs = xr.merge([
                xr.DataArray(list_inputs["Alb"]).rename("albedo"),
                xr.DataArray(list_inputs["NDVI"]).rename("NDVI"),
                xr.DataArray(list_inputs["Tr"]).rename("radiometric_temperature"),
                xr.DataArray(list_inputs["Ta"]).rename("air_temperature"),
                xr.DataArray(list_inputs["P"]).rename("surface_pressure"),
                xr.DataArray(list_inputs["U"]).rename("wind_speed"),
                xr.DataArray(list_inputs["Sdn"]).rename("solar_radiation"),
                xr.DataArray(list_inputs["Ldn"]).rename("thermal_radiation"),
            ])
            
et_xr = geeet.tseb.tseb_series(xr_inputs, **scalar_inputs)
et_xr





import ee
ee.Initialize()

# Transform the list_inputs dictionary to lists of dictionaries
list_inputs_t = []
for i in range(2):
    list_inputs_t.append(
        {key: value[i] for key, value in list_inputs.items()}
    )
# Separate constant ee.Images:
ee_images = []
for x in list_inputs_t:
    ee_images.append(
        ee.Image(ee.Dictionary(x).toImage())
        # Rename (same names as in the xarray example)
        .select(["Alb", "NDVI", "Tr", "Ta", "P", "U", "Sdn", "Ldn"],
                ["albedo",
                "NDVI",
                "radiometric_temperature",
                "air_temperature",
                "surface_pressure",
                "wind_speed",
                "solar_radiation",
                "thermal_radiation"])
        .set({**scalar_inputs,**{"viewing_zenith": scalar_inputs["Vza"]}})
    )
ee_image_collection = ee.ImageCollection(ee_images)  # We will also prepare an ee.ImageCollection for demonstrating how to map the ET model. 





et_ee = geeet.tseb.tseb_series(ee_images[0])





et_ee.bandNames().getInfo()





def pt_reducer(img):
    return img.reduceRegion(reducer=ee.Reducer.mean(), 
                               geometry=dict(type="Point", 
                               coordinates=[
                                   scalar_inputs["longitude"], 
                                   scalar_inputs["latitude"]
                                ]),
                               scale=30)





et_ee_pt = pt_reducer(et_ee).getInfo()  # This waits for the result from EE interactive environment. 

L = lambda s,k,a,b: f'{s} {a[k][0]:.2f} | {b[k]:.2f}'  # a: the np array result (list of 2 pts); b: our single ee pt
print(L('Net radiation (W/m²):                          ', "Rn", et_np, et_ee_pt))
print(L('Net radiation (W/m²) from canopy source:       ', "Rnc",et_np, et_ee_pt))
print(L('Net radiation (W/m²) from soil source:         ', "Rns",et_np, et_ee_pt))
print(L('Latent heat flux (W/m²):                       ', "LE", et_np, et_ee_pt))
print(L('Latent heat flux (W/m²) from canopy source:    ', "LEc",et_np, et_ee_pt))
print(L('Latent heat flux (W/m²) from soil source:      ', "LEs",et_np, et_ee_pt))
print(L('Sensible heat flux (W/m²) from canopy source:  ', "Hc", et_np, et_ee_pt))
print(L('Sensible heat flux (W/m²) from soil source:    ', "Hs", et_np, et_ee_pt))
print(L('Ground heat flux (W/m²):                       ', "G",  et_np, et_ee_pt))





et_ee_collection = ee_image_collection.map(geeet.tseb.tseb_series)





feature_collection = dict(type="FeatureCollection", features=[
    dict(type="Feature", properties=dict(name="my point"),
         geometry=dict(type="Point", 
        coordinates = [scalar_inputs["longitude"], 
                      scalar_inputs["latitude"]])
)]) 





from geeet.eepredefined import reducers

bands = ["LE", "LEs", "LEc", "Hs", "Hc", "Rn", "Rnc", "Rns", "G"]

reduced = reducers.image_collection(feature_collection,
    img_collection = ee.ImageCollection(et_ee_collection  # The image collection to reduce. Here our two-image collection
    # However, the reducers module requires that each image have a system:time_start, so let's put one here:
                    .map(lambda img: img.set({"system:time_start": 1704096000000})),
    ), 
    mean_bands = bands,  # The bands to reduce using ee.Reudcer.mean
    feature_properties = ["name"] # Optionally keep properties from each feature. 
) # This is a ee.FeatureCollection

# For easier comparison with the numpy array aexample, let's 
# request the output as a dictionary of arrays:
band_agg_dict = {band: reduced.aggregate_array(band) for band in bands}
ee_outputs = ee.Dictionary(band_agg_dict).getInfo()

# Finally, let's compare these with the on-premises results:
print('Energy balance components                         np_outputs           ee_outputs')
print(f('Net radiation (W/m²):                          ', "Rn",  et_np, ee_outputs, 1))
print(f('Net radiation (W/m²) from canopy source:       ', "Rnc", et_np, ee_outputs, 1))
print(f('Net radiation (W/m²) from soil source:         ', "Rns", et_np, ee_outputs, 1))
print(f('Latent heat flux (W/m²):                       ', "LE",  et_np, ee_outputs, 1))
print(f('Latent heat flux (W/m²) from canopy source:    ', "LEc", et_np, ee_outputs, 1))
print(f('Latent heat flux (W/m²) from soil source:      ', "LEs", et_np, ee_outputs, 1))
print(f('Sensible heat flux (W/m²) from canopy source:  ', "Hc",  et_np, ee_outputs, 1))
print(f('Sensible heat flux (W/m²) from soil source:    ', "Hs",  et_np, ee_outputs, 1))
print(f('Ground heat flux (W/m²):                       ', "G",   et_np, ee_outputs, 1))
