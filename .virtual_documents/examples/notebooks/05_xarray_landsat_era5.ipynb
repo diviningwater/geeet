


import rioxarray

url = "https://raw.githubusercontent.com/kaust-halo/geeet/main/examples/data/landsat_era5_sample.tif"
data = rioxarray.open_rasterio(url, band_as_variable=True)
data = (data.rename({band:data[band].attrs["long_name"] for band in data})
    .assign(
        LE = lambda x: x.LEc+x.LEs,
        H = lambda x: x.Hc+x.Hs,
        Rn = lambda x: x.Rnc+x.Rns 
    )
)
data





inputs = data[["NDVI", "albedo", "radiometric_temperature", 
"surface_pressure", "air_temperature", "wind_speed", "solar_radiation", "thermal_radiation"]]
inputs





scalar_inputs = dict(
    doy = 111,          # 2023-04-21; Day of year
    time = 10.98,       # Local observation time
    Vza = 0,            # Viewing zenith angle (degrees)
    longitude = 38.25,  # Longitude (degrees)
    latitude = 30.25,   # Latitude (degrees)
    zU = 10,            # Wind measurement height (m)
    zT = 2              # Temperature measurement height (m)
)





import geeet

xet = geeet.tseb.tseb_series(inputs, **scalar_inputs)
xet





import xarray as xr
xdiff = xet - data

flux_name = "LE"
plot_kwargs = dict(cmap="viridis", vmin=0, vmax=350)

facets = (xr.concat([
    data[flux_name],
    xet[flux_name],
    xdiff[flux_name]
], dim="band")
.assign_coords({"band": ["GEE model", "xarray model", "difference"]})
.assign_attrs({"units": "W/m²"})
)
facetGrid = facets.plot(col="band", **plot_kwargs)
facetGrid.set_titles(template='{value}')





facets.sel(band="difference").plot(vmin=-0.1, vmax=0.1)





import numpy as np

datab = data.rio.reproject("EPSG:4326")
xv, yv = np.meshgrid(datab.x, datab.y, indexing='xy')
lon, lat = np.meshgrid(datab.x, datab.y, indexing='xy')
datab = datab.assign(longitude=(["y","x"], lon), latitude=(["y","x"], lat))

inputsb = (datab[[
    "longitude", "latitude",
    "NDVI", "albedo", "radiometric_temperature", 
    "surface_pressure", "air_temperature", "wind_speed", 
    "solar_radiation", "thermal_radiation"]]
)

xetb = geeet.tseb.tseb_series(inputsb, **dict(
    doy = 111,          # 2023-04-21; Day of year
    time = 10.98,       # Local observation time
    Vza = 0,            # Viewing zenith angle (degrees)
    zU = 10,            # Wind measurement height (m)
    zT = 2              # Temperature measurement height (m)
))

xdiffb = xetb - datab # difference with the GEE model run

xdiffb.LE.plot(vmin=-0.1, vmax=0.1)



