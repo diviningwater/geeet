


# Use the following line to install geeet if needed:
#!pip install git+https://github.com/kaust-halo/geeet
import ee
#ee.Authenticate() # Uncomment if using Google Colab or first time using EE on this device. 
ee.Initialize()


import geeet
from geeet.eepredefined import landsat

region = dict(type="Point", coordinates=[38.25, 30.25])

# Define a custom workflow (TSEB model + LE extrapolation)
workflow = [
    geeet.tseb.tseb_series,
    landsat.extrapolate_LE    # this adds the "ET" band, in mm/day
]

landsat_era5_tseb_collection = landsat.mapped_collection(
    workflow,
    date_start = "2023-04-01",
    date_end = "2023-05-01",
    region = region, 
    era5 = True
)


landsat_era5_tseb_collection.first().bandNames().getInfo()



